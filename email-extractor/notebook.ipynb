{
 "cells": [
  {
   "cell_type": "code",
   "execution_count": 2,
   "metadata": {},
   "outputs": [],
   "source": [
    "import os \n",
    "import openai\n",
    "import langchain\n",
    "import warnings\n",
    "import numpy as np \n",
    "from dotenv import load_dotenv, find_dotenv \n",
    "\n",
    "_ = load_dotenv(find_dotenv())\n",
    "\n",
    "warnings.filterwarnings(\"ignore\")"
   ]
  },
  {
   "cell_type": "code",
   "execution_count": 3,
   "metadata": {},
   "outputs": [],
   "source": [
    "openai.api_key = os.environ[\"OPENAI_API_KEY\"]"
   ]
  },
  {
   "cell_type": "code",
   "execution_count": 6,
   "metadata": {},
   "outputs": [],
   "source": [
    "from langchain.embeddings.openai import OpenAIEmbeddings\n",
    "from langchain.text_splitter import RecursiveCharacterTextSplitter\n",
    "from langchain.vectorstores import DocArrayInMemorySearch\n",
    "from langchain.chains import RetrievalQA,  ConversationalRetrievalChain\n",
    "from langchain.chat_models import ChatOpenAI\n",
    "from langchain.document_loaders import DirectoryLoader, TextLoader"
   ]
  },
  {
   "cell_type": "markdown",
   "metadata": {},
   "source": [
    "Load the documents from the directory using the `DirectoryLoader`"
   ]
  },
  {
   "cell_type": "code",
   "execution_count": 13,
   "metadata": {},
   "outputs": [],
   "source": [
    "loader = DirectoryLoader(\n",
    "    path=\"./docs\",\n",
    "    glob=\"**/*.txt\",\n",
    "    loader_cls=TextLoader,\n",
    ")\n",
    "\n",
    "raw_docs = loader.load()"
   ]
  },
  {
   "cell_type": "code",
   "execution_count": 14,
   "metadata": {},
   "outputs": [
    {
     "name": "stdout",
     "output_type": "stream",
     "text": [
      "Number of docs: 22\n"
     ]
    }
   ],
   "source": [
    "print(f\"Number of docs: {len(raw_docs)}\")"
   ]
  },
  {
   "cell_type": "code",
   "execution_count": 15,
   "metadata": {},
   "outputs": [
    {
     "name": "stdout",
     "output_type": "stream",
     "text": [
      "Hey ,\n",
      "\n",
      "It's finally here. The Complete Guide To Getting Started With Open Source.\n",
      "\n",
      "It's a 3 part course (4 parts for software engineers), and will take you ~30 minutes to complete.\n",
      "\n",
      "Open source completely transformed my life as a software engineer, and I strongly believe it can do the same for you too.\n",
      "\n",
      "[Watch The Course for Free Here](https://www.crushingit.tech/courses/open-source/what-is-open-source-with-examples?utm_source=newsletter&utm_medium=email&utm_campaign=3-popular-job-interview-ques\n"
     ]
    }
   ],
   "source": [
    "print(raw_docs[0].page_content[:500])"
   ]
  },
  {
   "cell_type": "markdown",
   "metadata": {},
   "source": [
    "Split the documents into chunks"
   ]
  },
  {
   "cell_type": "code",
   "execution_count": 16,
   "metadata": {},
   "outputs": [],
   "source": [
    "\n",
    "text_splitter = RecursiveCharacterTextSplitter(chunk_size=1000, chunk_overlap=150)\n",
    "docs = text_splitter.split_documents(raw_docs)"
   ]
  },
  {
   "cell_type": "markdown",
   "metadata": {},
   "source": [
    "Create and store embeddings in the vector database (in-memory)"
   ]
  },
  {
   "cell_type": "code",
   "execution_count": 18,
   "metadata": {},
   "outputs": [],
   "source": [
    "embeddings = OpenAIEmbeddings()\n",
    "db = DocArrayInMemorySearch.from_documents(docs, embeddings)\n",
    "retriever = db.as_retriever(\n",
    "    search_type=\"similarity\",\n",
    "    search_kwargs={\"k\": 4}\n",
    ")"
   ]
  },
  {
   "cell_type": "code",
   "execution_count": 19,
   "metadata": {},
   "outputs": [],
   "source": [
    "llm = ChatOpenAI(model_name=\"gpt-3.5-turbo\", temperature=0)\n",
    "\n",
    "qa_chain = ConversationalRetrievalChain.from_llm(\n",
    "    llm=llm, \n",
    "    chain_type=\"stuff\", \n",
    "    retriever=retriever, \n",
    "    return_source_documents=True,\n",
    "    return_generated_question=True,\n",
    ")"
   ]
  },
  {
   "cell_type": "code",
   "execution_count": 23,
   "metadata": {},
   "outputs": [
    {
     "name": "stdout",
     "output_type": "stream",
     "text": [
      "My advice for junior developers would be:\n",
      "\n",
      "1. Focus on understanding the fundamentals of the trade rather than just acquiring specific skills. Learn about different technologies and frameworks, but also understand the problems they solve and the mental models they use.\n",
      "\n",
      "2. Strive for excellence and aim to be better than the average developer. Learn how to build world-class solutions to problems and deliver high-quality work. Don't settle for mediocre results.\n",
      "\n",
      "3. Take ownership of the entire software development life cycle. Your role as a software engineer goes beyond just writing code. Understand the bigger picture, think strategically, and consider aspects like solution architecture and documentation.\n",
      "\n",
      "Remember, becoming a valuable software engineer takes time and effort. Keep learning, practicing, and seeking opportunities to grow your skills and knowledge.\n"
     ]
    }
   ],
   "source": [
    "result = qa_chain({\n",
    "    \"question\": \"What is your advice for junior developers?\",\n",
    "    \"chat_history\": []\n",
    "})\n",
    "\n",
    "print(result[\"answer\"])"
   ]
  },
  {
   "cell_type": "code",
   "execution_count": 24,
   "metadata": {},
   "outputs": [
    {
     "name": "stdout",
     "output_type": "stream",
     "text": [
      "The most important skill for a software engineer is problem solving.\n"
     ]
    }
   ],
   "source": [
    "result = qa_chain({\n",
    "    \"question\": \"What is the most important skill for a software engineer?\",\n",
    "    \"chat_history\": []\n",
    "})\n",
    "\n",
    "print(result[\"answer\"])"
   ]
  },
  {
   "cell_type": "code",
   "execution_count": 25,
   "metadata": {},
   "outputs": [
    {
     "name": "stdout",
     "output_type": "stream",
     "text": [
      "To increase your chances of getting jobs as a software engineer, here are three important steps you can take:\n",
      "\n",
      "1. Learn the fundamentals of the trade: It's crucial to have a strong foundation in software engineering. Make sure you understand the core concepts, programming languages, and technologies that are commonly used in the industry. This will enable you to solve problems effectively and make informed decisions when choosing technologies for projects.\n",
      "\n",
      "2. Understand the business problems inside out: Companies value engineers who can solve their problems in a fast and cost-effective manner. Take the time to understand the business side of things, such as the market you're in and the current talent pool of the company. This will allow you to make strategic technology decisions and demonstrate your ability to provide value to the company.\n",
      "\n",
      "3. Build a strong portfolio: In today's competitive job market, having an empty GitHub profile or portfolio won't cut it. Employers want to see evidence of your skills and experience. Work on personal projects, contribute to open-source projects, and showcase your work on platforms like GitHub. This will not only demonstrate your abilities but also make you stand out from other candidates.\n",
      "\n",
      "Remember, the job market for software engineers can be highly competitive, so it's important to continuously improve your skills, stay updated with industry trends, and network with professionals in the field.\n"
     ]
    }
   ],
   "source": [
    "result = qa_chain({\n",
    "    \"question\": \"How can I get jobs as a software engineer?\",\n",
    "    \"chat_history\": []\n",
    "})\n",
    "\n",
    "print(result[\"answer\"])"
   ]
  },
  {
   "cell_type": "code",
   "execution_count": 26,
   "metadata": {},
   "outputs": [
    {
     "name": "stdout",
     "output_type": "stream",
     "text": [
      "To ace job interviews, there are two key factors to focus on:\n",
      "\n",
      "1. Demonstrating Competence: Showcasing your skills and qualifications is crucial. Prepare by identifying the specific requirements and responsibilities of the job you're applying for, and then highlight relevant experiences and achievements that align with those requirements. Even if you don't have professional experience, you can create your own experiences, such as working on open-source projects or personal projects, and discuss them confidently during the interview.\n",
      "\n",
      "2. Being Likable: Remember that interviewers are human, and their impressions of you can heavily influence their decision-making. Practice good communication skills, maintain a positive attitude, and engage in friendly conversation during the interview. Building rapport and showing genuine interest in the company and the role can help make a positive impression.\n",
      "\n",
      "By focusing on both competence and likability, you can increase your chances of acing job interviews. Remember to prepare your answers in advance and approach the interview as a game, never going in unprepared.\n"
     ]
    }
   ],
   "source": [
    "result = qa_chain({\n",
    "    \"question\": \"How can I ace job interviews?\",\n",
    "    \"chat_history\": []\n",
    "})\n",
    "\n",
    "print(result[\"answer\"])"
   ]
  },
  {
   "cell_type": "code",
   "execution_count": 27,
   "metadata": {},
   "outputs": [
    {
     "name": "stdout",
     "output_type": "stream",
     "text": [
      "[Document(page_content=\"As a takeaway from this letter, answer these two questions:\\n\\n1. Am I a competent candidate in every interview ?\\n2. Do my interviewers like me at the end of the interview ?\\n\\nYou don't have to be searching for a job to master these skills. You can master them today, and increase your chances of winning big at interviews.\\n\\nThank you for reading. Until next week, stay growing.\\n\\n             [Online version](https://frantz.mailcoach.app/webview/campaign/ab0c3d98-81ad-41b6-9a3a-ddcb70d6b92a) â€¢ [Unsubscribe](https://frantz.mailcoach.app/unsubscribe/fbba01de-5bd1-468f-a377-3337dae3438e/b774b743-76b0-4056-92ab-a7b43f5d1d6e)     Sent by [Frantz Kati](https://twitter.com/bahdcoder?utm_source=newsletter&utm_medium=email&utm_campaign=crushing-the-tech-interview-the-two-secret-formulas)\", metadata={'source': 'docs\\\\Crushing_the_tech_interview_The_two_secret_formulas.txt'}), Document(page_content=\"For example.\\n\\nSay the job description mentioned how important automated tests are to them.\\n\\nWhat you do is look for an instance in your experience where you wrote automated tests, and craft it as a significant achievement.\\n\\nRemember you don't need any professional experience to do this. You can CREATE your own experience.\\n\\nAs a learner, you can write 200 automated tests for your open source project and brag about them in an interview.\\n\\nThe interviewer can even think you're a stronger candidate because of this.\\n\\nFigure out exactly what your interviewer is looking for, and mapping it to your previous experiences.\\n\\nThat how I show my competence. And that's how you can too.\\n\\n2. Be likeable.\\n---------------\\n\\nInterviewers are human. And humans make split decisions based on how they feel. I once had an interview with a company. Because we had such a fun time interviewing, the interviewer decided to be honest with me. These were his exact words:\\n\\n> I really liked you, so I'll tell you this:\", metadata={'source': 'docs\\\\Crushing_the_tech_interview_The_two_secret_formulas.txt'}), Document(page_content=\"True story. I am extremely confident in my interviewing skills. This is because of 2 reasons:\\n\\n1. I spent countless hours practicing how to interview on YouTube and infront of my mirror\\n2. I spent almost 2 years on the other side of the table. I was an interviewer for tech talent at Turing, so I know how companies find and evaluate the best candidates.\\n\\nThis puts me at an unfair advantage.\\n\\nIf you're very going into an interview, you need to read this email.\\n\\nI will outline 3 questions that will show up in almost any interview, and exactly how you should answer these questions (+ sample answers from my past interviews).\\n\\nAlways remember the ultimate secret to acing any interview:\\n\\n> **Prepare ALL your answers before you walk into the interview. It's a game. Never go unprepared.**\\n\\nFor these 3 questions, we'll be interviewing for the role of **Remote Visual Content Creator** at a company called Pixellu. This is a real job and a real description:\", metadata={'source': 'docs\\\\3_Popular_Job_Interview_Questions_And_How_To_Ace_Them.txt'}), Document(page_content=\"During my time interviewing, only two things mattered:\\n\\n1. Is this candidate competent for the role ?\\n2. Does this candidate have a great personality ? Do I like this candidate ?\\n\\nThis wasn't a me thing. I once interviewed with a company that was very transparent about how they hire.\\n\\nThey didn't have any complicated processes. It was simple.\\n\\nThey all sat around the table and decided. A ***Hell Yeah!*** or a ***No***. Not ***Yes***, not ***Maybe***, not ***Looks Good***. Either it's a ***Hell Yeah !***, let's hire this person, or it's a no. And Everyone needed to give a ***Hell Yeah!***.\\n\\nThis means the decision largely depended on how the interviewers liked you as a person.\\n\\nWith this knowledge, the question becomes, how do I show the interviewers I am the most competent candidate ? And how do I make my interviewers like me as a person ?\\n\\n1. Show you are Competent\\n-------------------------\", metadata={'source': 'docs\\\\Crushing_the_tech_interview_The_two_secret_formulas.txt'})]\n"
     ]
    }
   ],
   "source": [
    "print(result[\"source_documents\"])"
   ]
  },
  {
   "cell_type": "code",
   "execution_count": null,
   "metadata": {},
   "outputs": [],
   "source": []
  }
 ],
 "metadata": {
  "kernelspec": {
   "display_name": "Python 3",
   "language": "python",
   "name": "python3"
  },
  "language_info": {
   "codemirror_mode": {
    "name": "ipython",
    "version": 3
   },
   "file_extension": ".py",
   "mimetype": "text/x-python",
   "name": "python",
   "nbconvert_exporter": "python",
   "pygments_lexer": "ipython3",
   "version": "3.9.10"
  },
  "orig_nbformat": 4
 },
 "nbformat": 4,
 "nbformat_minor": 2
}
